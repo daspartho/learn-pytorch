{
  "cells": [
    {
      "cell_type": "code",
      "execution_count": 377,
      "metadata": {
        "colab": {
          "base_uri": "https://localhost:8080/",
          "height": 36
        },
        "id": "r2N7Yc7lCEWP",
        "outputId": "f3823731-f399-4760-dc81-b7faa6580016"
      },
      "outputs": [
        {
          "output_type": "execute_result",
          "data": {
            "text/plain": [
              "'1.12.1+cu113'"
            ],
            "application/vnd.google.colaboratory.intrinsic+json": {
              "type": "string"
            }
          },
          "metadata": {},
          "execution_count": 377
        }
      ],
      "source": [
        "import torch\n",
        "torch.__version__"
      ]
    },
    {
      "cell_type": "code",
      "execution_count": 378,
      "metadata": {
        "colab": {
          "base_uri": "https://localhost:8080/"
        },
        "id": "u0oqXcZzb8Tz",
        "outputId": "0aef1b7a-81b2-4524-8a22-aa8ba964b775"
      },
      "outputs": [
        {
          "output_type": "execute_result",
          "data": {
            "text/plain": [
              "tensor(7)"
            ]
          },
          "metadata": {},
          "execution_count": 378
        }
      ],
      "source": [
        "scalar = torch.tensor(7)\n",
        "scalar"
      ]
    },
    {
      "cell_type": "code",
      "execution_count": 379,
      "metadata": {
        "colab": {
          "base_uri": "https://localhost:8080/"
        },
        "id": "SSs5j59lcqAq",
        "outputId": "a410f50f-8507-4b5e-e066-e636b21d4560"
      },
      "outputs": [
        {
          "output_type": "execute_result",
          "data": {
            "text/plain": [
              "0"
            ]
          },
          "metadata": {},
          "execution_count": 379
        }
      ],
      "source": [
        "scalar.ndim"
      ]
    },
    {
      "cell_type": "code",
      "execution_count": 380,
      "metadata": {
        "colab": {
          "base_uri": "https://localhost:8080/"
        },
        "id": "JW5wQxkfcw0Z",
        "outputId": "de84a754-2b30-4f24-d1d1-260775e821c1"
      },
      "outputs": [
        {
          "output_type": "execute_result",
          "data": {
            "text/plain": [
              "7"
            ]
          },
          "metadata": {},
          "execution_count": 380
        }
      ],
      "source": [
        "scalar.item()"
      ]
    },
    {
      "cell_type": "code",
      "execution_count": 381,
      "metadata": {
        "colab": {
          "base_uri": "https://localhost:8080/"
        },
        "id": "QUcHWzwEc92n",
        "outputId": "a80b3310-fb95-4fee-8b66-e4699e1e07a2"
      },
      "outputs": [
        {
          "output_type": "execute_result",
          "data": {
            "text/plain": [
              "tensor([7, 7])"
            ]
          },
          "metadata": {},
          "execution_count": 381
        }
      ],
      "source": [
        "vector = torch.tensor([7, 7])\n",
        "vector"
      ]
    },
    {
      "cell_type": "code",
      "execution_count": 382,
      "metadata": {
        "colab": {
          "base_uri": "https://localhost:8080/"
        },
        "id": "v3jGA8-mdNLs",
        "outputId": "0b8132ca-b2e4-4a16-f97a-f1d1ab296134"
      },
      "outputs": [
        {
          "output_type": "execute_result",
          "data": {
            "text/plain": [
              "1"
            ]
          },
          "metadata": {},
          "execution_count": 382
        }
      ],
      "source": [
        "vector.ndim"
      ]
    },
    {
      "cell_type": "code",
      "execution_count": 383,
      "metadata": {
        "colab": {
          "base_uri": "https://localhost:8080/"
        },
        "id": "se2kELB7dXkk",
        "outputId": "a2ec0c0e-888e-455c-8446-a0a130c1d9a7"
      },
      "outputs": [
        {
          "output_type": "execute_result",
          "data": {
            "text/plain": [
              "torch.Size([2])"
            ]
          },
          "metadata": {},
          "execution_count": 383
        }
      ],
      "source": [
        "vector.shape"
      ]
    },
    {
      "cell_type": "code",
      "execution_count": 384,
      "metadata": {
        "colab": {
          "base_uri": "https://localhost:8080/"
        },
        "id": "aMh9VqJedhbd",
        "outputId": "a26cd4cd-a950-4615-c3ce-5651f6bd949a"
      },
      "outputs": [
        {
          "output_type": "execute_result",
          "data": {
            "text/plain": [
              "tensor([[1, 2],\n",
              "        [3, 4]])"
            ]
          },
          "metadata": {},
          "execution_count": 384
        }
      ],
      "source": [
        "matrix = torch.tensor([[1,2],[3,4]])\n",
        "matrix"
      ]
    },
    {
      "cell_type": "code",
      "execution_count": 385,
      "metadata": {
        "colab": {
          "base_uri": "https://localhost:8080/"
        },
        "id": "gCO7phzofzTy",
        "outputId": "b4637057-2b4c-4200-8568-6db7b6c49f39"
      },
      "outputs": [
        {
          "output_type": "execute_result",
          "data": {
            "text/plain": [
              "2"
            ]
          },
          "metadata": {},
          "execution_count": 385
        }
      ],
      "source": [
        "matrix.ndim"
      ]
    },
    {
      "cell_type": "code",
      "execution_count": 386,
      "metadata": {
        "colab": {
          "base_uri": "https://localhost:8080/"
        },
        "id": "F7Vbf625f2eI",
        "outputId": "c2ead9b4-f962-47a7-8bc5-4a2278b188e4"
      },
      "outputs": [
        {
          "output_type": "execute_result",
          "data": {
            "text/plain": [
              "torch.Size([2, 2])"
            ]
          },
          "metadata": {},
          "execution_count": 386
        }
      ],
      "source": [
        "matrix.shape"
      ]
    },
    {
      "cell_type": "code",
      "execution_count": 387,
      "metadata": {
        "colab": {
          "base_uri": "https://localhost:8080/"
        },
        "id": "JUPJL3cUf87p",
        "outputId": "d77f4172-565d-4947-b25a-c6435bcea0c1"
      },
      "outputs": [
        {
          "output_type": "execute_result",
          "data": {
            "text/plain": [
              "tensor([[[1, 2],\n",
              "         [3, 4]],\n",
              "\n",
              "        [[4, 5],\n",
              "         [6, 7]]])"
            ]
          },
          "metadata": {},
          "execution_count": 387
        }
      ],
      "source": [
        "tensor = torch.tensor([[[1,2],[3,4]],[[4,5],[6,7]]])\n",
        "tensor"
      ]
    },
    {
      "cell_type": "code",
      "execution_count": 388,
      "metadata": {
        "colab": {
          "base_uri": "https://localhost:8080/"
        },
        "id": "QX08BVoNgdA7",
        "outputId": "86e818c4-e43b-47f3-b42f-ff60c3ce2d88"
      },
      "outputs": [
        {
          "output_type": "execute_result",
          "data": {
            "text/plain": [
              "3"
            ]
          },
          "metadata": {},
          "execution_count": 388
        }
      ],
      "source": [
        "tensor.ndim"
      ]
    },
    {
      "cell_type": "code",
      "execution_count": 389,
      "metadata": {
        "colab": {
          "base_uri": "https://localhost:8080/"
        },
        "id": "l2734gUjgigK",
        "outputId": "0e4952cc-a5c2-4b7f-ee67-c3d3ae42219e"
      },
      "outputs": [
        {
          "output_type": "execute_result",
          "data": {
            "text/plain": [
              "torch.Size([2, 2, 2])"
            ]
          },
          "metadata": {},
          "execution_count": 389
        }
      ],
      "source": [
        "tensor.shape"
      ]
    },
    {
      "cell_type": "code",
      "execution_count": 390,
      "metadata": {
        "colab": {
          "base_uri": "https://localhost:8080/"
        },
        "id": "ZmxE9J2DglSh",
        "outputId": "607c1a2f-3679-485a-c12a-154257a95cb7"
      },
      "outputs": [
        {
          "output_type": "execute_result",
          "data": {
            "text/plain": [
              "tensor([[0.8826, 0.5284, 0.1675, 0.1511],\n",
              "        [0.1357, 0.8059, 0.3653, 0.9296],\n",
              "        [0.4802, 0.1235, 0.0422, 0.4864]])"
            ]
          },
          "metadata": {},
          "execution_count": 390
        }
      ],
      "source": [
        "random_tensor = torch.rand(size=(3, 4))\n",
        "random_tensor"
      ]
    },
    {
      "cell_type": "code",
      "execution_count": 391,
      "metadata": {
        "colab": {
          "base_uri": "https://localhost:8080/"
        },
        "id": "gVxDq9QLiEJc",
        "outputId": "dbe2cf65-9661-48dc-f7a3-1acb74551b56"
      },
      "outputs": [
        {
          "output_type": "execute_result",
          "data": {
            "text/plain": [
              "tensor([[0., 0., 0., 0.],\n",
              "        [0., 0., 0., 0.]])"
            ]
          },
          "metadata": {},
          "execution_count": 391
        }
      ],
      "source": [
        "zeros = torch.zeros(size=(2,4))\n",
        "zeros"
      ]
    },
    {
      "cell_type": "code",
      "execution_count": 392,
      "metadata": {
        "colab": {
          "base_uri": "https://localhost:8080/"
        },
        "id": "DMT6iRH2ih-V",
        "outputId": "08edb261-8723-4519-90ed-fd365167a77e"
      },
      "outputs": [
        {
          "output_type": "execute_result",
          "data": {
            "text/plain": [
              "torch.float32"
            ]
          },
          "metadata": {},
          "execution_count": 392
        }
      ],
      "source": [
        "zeros.dtype"
      ]
    },
    {
      "cell_type": "code",
      "execution_count": 393,
      "metadata": {
        "colab": {
          "base_uri": "https://localhost:8080/"
        },
        "id": "xjoqRjMFirYk",
        "outputId": "173cc26d-a5b5-4e32-dba5-66f838c8c383"
      },
      "outputs": [
        {
          "output_type": "execute_result",
          "data": {
            "text/plain": [
              "tensor([0, 1, 2, 3, 4, 5, 6, 7, 8, 9])"
            ]
          },
          "metadata": {},
          "execution_count": 393
        }
      ],
      "source": [
        "zero_to_ten = torch.arange(0, 10)\n",
        "zero_to_ten"
      ]
    },
    {
      "cell_type": "code",
      "execution_count": 394,
      "metadata": {
        "colab": {
          "base_uri": "https://localhost:8080/"
        },
        "id": "ltRwDQAujIha",
        "outputId": "bcaefa18-5e2d-4769-fa6f-5db716b744a5"
      },
      "outputs": [
        {
          "output_type": "execute_result",
          "data": {
            "text/plain": [
              "tensor([1, 1, 1, 1, 1, 1, 1, 1, 1, 1])"
            ]
          },
          "metadata": {},
          "execution_count": 394
        }
      ],
      "source": [
        "ten_ones = torch.ones_like(zero_to_ten)\n",
        "ten_ones"
      ]
    },
    {
      "cell_type": "code",
      "execution_count": 395,
      "metadata": {
        "colab": {
          "base_uri": "https://localhost:8080/"
        },
        "id": "aahgmrs2jirJ",
        "outputId": "b5c32390-2b6a-4f60-8622-8f3798dbfddd"
      },
      "outputs": [
        {
          "output_type": "execute_result",
          "data": {
            "text/plain": [
              "(torch.int64, device(type='cpu'))"
            ]
          },
          "metadata": {},
          "execution_count": 395
        }
      ],
      "source": [
        "ten_ones.dtype, ten_ones.device"
      ]
    },
    {
      "cell_type": "code",
      "execution_count": 396,
      "metadata": {
        "colab": {
          "base_uri": "https://localhost:8080/"
        },
        "id": "wBmOmy_bmpWS",
        "outputId": "5d9c8ef3-057a-435a-e21a-8dfa380f7c54"
      },
      "outputs": [
        {
          "output_type": "execute_result",
          "data": {
            "text/plain": [
              "tensor([11, 12, 13])"
            ]
          },
          "metadata": {},
          "execution_count": 396
        }
      ],
      "source": [
        "tensor = torch.tensor([1,2,3])\n",
        "tensor+10"
      ]
    },
    {
      "cell_type": "code",
      "execution_count": 397,
      "metadata": {
        "colab": {
          "base_uri": "https://localhost:8080/"
        },
        "id": "tz_o7xIwod-B",
        "outputId": "85092f97-8d72-4ec1-9368-c37d0487a815"
      },
      "outputs": [
        {
          "output_type": "execute_result",
          "data": {
            "text/plain": [
              "tensor([10, 20, 30])"
            ]
          },
          "metadata": {},
          "execution_count": 397
        }
      ],
      "source": [
        "tensor*10"
      ]
    },
    {
      "cell_type": "code",
      "execution_count": 398,
      "metadata": {
        "colab": {
          "base_uri": "https://localhost:8080/"
        },
        "id": "fvQ8dOoPohlm",
        "outputId": "ec2a7556-f89e-4711-dc8b-0ccb08ded78b"
      },
      "outputs": [
        {
          "output_type": "execute_result",
          "data": {
            "text/plain": [
              "tensor([-9, -8, -7])"
            ]
          },
          "metadata": {},
          "execution_count": 398
        }
      ],
      "source": [
        "tensor = tensor-10\n",
        "tensor"
      ]
    },
    {
      "cell_type": "code",
      "execution_count": 399,
      "metadata": {
        "id": "07fCymTto84J"
      },
      "outputs": [],
      "source": [
        "tensor = torch.add(tensor, 10)"
      ]
    },
    {
      "cell_type": "code",
      "execution_count": 400,
      "metadata": {
        "colab": {
          "base_uri": "https://localhost:8080/"
        },
        "id": "SyB5_lyYpsJM",
        "outputId": "c6a26844-0330-431d-b5c7-a946105cbcff"
      },
      "outputs": [
        {
          "output_type": "execute_result",
          "data": {
            "text/plain": [
              "tensor([1, 4, 9])"
            ]
          },
          "metadata": {},
          "execution_count": 400
        }
      ],
      "source": [
        "tensor*tensor"
      ]
    },
    {
      "cell_type": "code",
      "execution_count": 401,
      "metadata": {
        "colab": {
          "base_uri": "https://localhost:8080/"
        },
        "id": "a6n1uebxp0_Q",
        "outputId": "45f5b8ff-a1a0-44c0-952d-2d40bb5cdc49"
      },
      "outputs": [
        {
          "output_type": "execute_result",
          "data": {
            "text/plain": [
              "tensor([[ 2,  6],\n",
              "        [ 6, 12]])"
            ]
          },
          "metadata": {},
          "execution_count": 401
        }
      ],
      "source": [
        "torch.tensor([[1,2],[3,4]])*torch.tensor([2, 3])"
      ]
    },
    {
      "cell_type": "code",
      "execution_count": 402,
      "metadata": {
        "id": "0WHUpyTqqDqt"
      },
      "outputs": [],
      "source": [
        "tensor = torch.tensor([1,2,3])"
      ]
    },
    {
      "cell_type": "code",
      "source": [
        "tensor * tensor"
      ],
      "metadata": {
        "colab": {
          "base_uri": "https://localhost:8080/"
        },
        "id": "KXG5x0b6vmHu",
        "outputId": "bcb05a9f-0ff4-43a9-aacd-b387a50b5327"
      },
      "execution_count": 403,
      "outputs": [
        {
          "output_type": "execute_result",
          "data": {
            "text/plain": [
              "tensor([1, 4, 9])"
            ]
          },
          "metadata": {},
          "execution_count": 403
        }
      ]
    },
    {
      "cell_type": "code",
      "source": [
        "torch.matmul(tensor, tensor)"
      ],
      "metadata": {
        "colab": {
          "base_uri": "https://localhost:8080/"
        },
        "id": "_rPhBIqIvpGD",
        "outputId": "109d3250-43ec-47f0-8388-4de373b694e5"
      },
      "execution_count": 404,
      "outputs": [
        {
          "output_type": "execute_result",
          "data": {
            "text/plain": [
              "tensor(14)"
            ]
          },
          "metadata": {},
          "execution_count": 404
        }
      ]
    },
    {
      "cell_type": "code",
      "source": [
        "A = torch.rand((3,4))\n",
        "B = torch.rand((3,4))"
      ],
      "metadata": {
        "id": "X2lVjLZDv1xj"
      },
      "execution_count": 405,
      "outputs": []
    },
    {
      "cell_type": "code",
      "source": [
        "torch.matmul(A, B.T)"
      ],
      "metadata": {
        "colab": {
          "base_uri": "https://localhost:8080/"
        },
        "id": "Il3DwxB-VLs2",
        "outputId": "d3a6bb90-3e49-4e86-b9dd-4ad73e959b38"
      },
      "execution_count": 406,
      "outputs": [
        {
          "output_type": "execute_result",
          "data": {
            "text/plain": [
              "tensor([[1.2630, 1.3029, 0.5321],\n",
              "        [0.8463, 0.8862, 0.3026],\n",
              "        [1.5671, 1.1032, 0.5996]])"
            ]
          },
          "metadata": {},
          "execution_count": 406
        }
      ]
    },
    {
      "cell_type": "code",
      "source": [
        "linear = torch.nn.Linear(2, 6)"
      ],
      "metadata": {
        "id": "fDqwW0_RWGt4"
      },
      "execution_count": 407,
      "outputs": []
    },
    {
      "cell_type": "code",
      "source": [
        "output = linear(torch.rand(4,2))"
      ],
      "metadata": {
        "id": "WH6MUBtQargs"
      },
      "execution_count": 408,
      "outputs": []
    },
    {
      "cell_type": "code",
      "source": [
        "output.shape"
      ],
      "metadata": {
        "colab": {
          "base_uri": "https://localhost:8080/"
        },
        "id": "IfJA7Ieza0bQ",
        "outputId": "cc4ab586-f3fe-4aa1-c5d4-ea09a162880a"
      },
      "execution_count": 409,
      "outputs": [
        {
          "output_type": "execute_result",
          "data": {
            "text/plain": [
              "torch.Size([4, 6])"
            ]
          },
          "metadata": {},
          "execution_count": 409
        }
      ]
    },
    {
      "cell_type": "code",
      "source": [
        "X = torch.rand(10)\n",
        "X"
      ],
      "metadata": {
        "colab": {
          "base_uri": "https://localhost:8080/"
        },
        "id": "lvPV649ga1I2",
        "outputId": "1e94137d-85fd-4d6c-e19e-ac55172c5a0b"
      },
      "execution_count": 410,
      "outputs": [
        {
          "output_type": "execute_result",
          "data": {
            "text/plain": [
              "tensor([0.7478, 0.8839, 0.5542, 0.8208, 0.3932, 0.4745, 0.8997, 0.1468, 0.1531,\n",
              "        0.1521])"
            ]
          },
          "metadata": {},
          "execution_count": 410
        }
      ]
    },
    {
      "cell_type": "code",
      "source": [
        "X.sum()"
      ],
      "metadata": {
        "colab": {
          "base_uri": "https://localhost:8080/"
        },
        "id": "Jk4mZOVvd3e9",
        "outputId": "34a7c9c6-1fdd-481a-a31a-89a805eeb649"
      },
      "execution_count": 411,
      "outputs": [
        {
          "output_type": "execute_result",
          "data": {
            "text/plain": [
              "tensor(5.2262)"
            ]
          },
          "metadata": {},
          "execution_count": 411
        }
      ]
    },
    {
      "cell_type": "code",
      "source": [
        "X.mean()"
      ],
      "metadata": {
        "colab": {
          "base_uri": "https://localhost:8080/"
        },
        "id": "E8Sayxbgd70V",
        "outputId": "a6b82323-d5f4-4825-b8c7-f04891802074"
      },
      "execution_count": 412,
      "outputs": [
        {
          "output_type": "execute_result",
          "data": {
            "text/plain": [
              "tensor(0.5226)"
            ]
          },
          "metadata": {},
          "execution_count": 412
        }
      ]
    },
    {
      "cell_type": "code",
      "source": [
        "X.max()"
      ],
      "metadata": {
        "colab": {
          "base_uri": "https://localhost:8080/"
        },
        "id": "-pb4ygD6d9lN",
        "outputId": "7d42a425-8734-4e2c-cff5-f87dea05fef6"
      },
      "execution_count": 413,
      "outputs": [
        {
          "output_type": "execute_result",
          "data": {
            "text/plain": [
              "tensor(0.8997)"
            ]
          },
          "metadata": {},
          "execution_count": 413
        }
      ]
    },
    {
      "cell_type": "code",
      "source": [
        "X.min()"
      ],
      "metadata": {
        "colab": {
          "base_uri": "https://localhost:8080/"
        },
        "id": "me8C7C4MeBJF",
        "outputId": "69fc1ce1-984a-4366-8177-a3fac51fa0af"
      },
      "execution_count": 414,
      "outputs": [
        {
          "output_type": "execute_result",
          "data": {
            "text/plain": [
              "tensor(0.1468)"
            ]
          },
          "metadata": {},
          "execution_count": 414
        }
      ]
    },
    {
      "cell_type": "code",
      "source": [
        "X.argmax()"
      ],
      "metadata": {
        "id": "HCHK-4HreCtN",
        "colab": {
          "base_uri": "https://localhost:8080/"
        },
        "outputId": "f84888ab-4be3-4d7a-e6cc-bc72599b3878"
      },
      "execution_count": 415,
      "outputs": [
        {
          "output_type": "execute_result",
          "data": {
            "text/plain": [
              "tensor(6)"
            ]
          },
          "metadata": {},
          "execution_count": 415
        }
      ]
    },
    {
      "cell_type": "code",
      "source": [
        "X.argmin()"
      ],
      "metadata": {
        "colab": {
          "base_uri": "https://localhost:8080/"
        },
        "id": "Q_IUPOH_RREh",
        "outputId": "925c6924-7a98-4941-da44-61b6a9976867"
      },
      "execution_count": 416,
      "outputs": [
        {
          "output_type": "execute_result",
          "data": {
            "text/plain": [
              "tensor(7)"
            ]
          },
          "metadata": {},
          "execution_count": 416
        }
      ]
    },
    {
      "cell_type": "code",
      "source": [
        "X = torch.arange(10, 100, 10)\n",
        "X.dtype"
      ],
      "metadata": {
        "colab": {
          "base_uri": "https://localhost:8080/"
        },
        "id": "EEMy32wqRSJg",
        "outputId": "e9b8d6b3-a96f-433a-e693-20230696d4c8"
      },
      "execution_count": 417,
      "outputs": [
        {
          "output_type": "execute_result",
          "data": {
            "text/plain": [
              "torch.int64"
            ]
          },
          "metadata": {},
          "execution_count": 417
        }
      ]
    },
    {
      "cell_type": "code",
      "source": [
        "Q = X.type(torch.float32)\n",
        "Q.dtype"
      ],
      "metadata": {
        "colab": {
          "base_uri": "https://localhost:8080/"
        },
        "id": "pJJb6WJuSNC1",
        "outputId": "ffbe42f8-eb8f-4a4f-dcee-5f0b2e75c636"
      },
      "execution_count": 418,
      "outputs": [
        {
          "output_type": "execute_result",
          "data": {
            "text/plain": [
              "torch.float32"
            ]
          },
          "metadata": {},
          "execution_count": 418
        }
      ]
    },
    {
      "cell_type": "code",
      "source": [
        "X = torch.rand((10))\n",
        "X"
      ],
      "metadata": {
        "colab": {
          "base_uri": "https://localhost:8080/"
        },
        "id": "eTwjAl4dSZ1Q",
        "outputId": "cbbc86f8-69cd-4f5a-8508-26bf31e3d857"
      },
      "execution_count": 419,
      "outputs": [
        {
          "output_type": "execute_result",
          "data": {
            "text/plain": [
              "tensor([0.9215, 0.0841, 0.7736, 0.2042, 0.9856, 0.2405, 0.1716, 0.1048, 0.9893,\n",
              "        0.9515])"
            ]
          },
          "metadata": {},
          "execution_count": 419
        }
      ]
    },
    {
      "cell_type": "code",
      "source": [
        "X.argsort()"
      ],
      "metadata": {
        "colab": {
          "base_uri": "https://localhost:8080/"
        },
        "id": "76HZVq9mS_UW",
        "outputId": "8de56a4e-3e46-4318-8471-35b4b41b1c56"
      },
      "execution_count": 420,
      "outputs": [
        {
          "output_type": "execute_result",
          "data": {
            "text/plain": [
              "tensor([1, 7, 6, 3, 5, 2, 0, 9, 4, 8])"
            ]
          },
          "metadata": {},
          "execution_count": 420
        }
      ]
    },
    {
      "cell_type": "code",
      "source": [
        "X = torch.rand((3,3))\n",
        "X"
      ],
      "metadata": {
        "colab": {
          "base_uri": "https://localhost:8080/"
        },
        "id": "pGCD0gSUTCkO",
        "outputId": "cb7b1649-b4d2-4cf0-e836-aebda89d53c4"
      },
      "execution_count": 421,
      "outputs": [
        {
          "output_type": "execute_result",
          "data": {
            "text/plain": [
              "tensor([[0.9981, 0.0705, 0.5440],\n",
              "        [0.8070, 0.2753, 0.0830],\n",
              "        [0.7162, 0.9803, 0.2179]])"
            ]
          },
          "metadata": {},
          "execution_count": 421
        }
      ]
    },
    {
      "cell_type": "code",
      "source": [
        "X.det()"
      ],
      "metadata": {
        "colab": {
          "base_uri": "https://localhost:8080/"
        },
        "id": "tBjL2Nv1Tdk-",
        "outputId": "dced80e8-f753-4954-dd58-02ba6d3ab91a"
      },
      "execution_count": 422,
      "outputs": [
        {
          "output_type": "execute_result",
          "data": {
            "text/plain": [
              "tensor(0.2936)"
            ]
          },
          "metadata": {},
          "execution_count": 422
        }
      ]
    },
    {
      "cell_type": "code",
      "source": [
        "y = X.reshape(9)\n",
        "y"
      ],
      "metadata": {
        "colab": {
          "base_uri": "https://localhost:8080/"
        },
        "id": "r7N2o1gMTfvF",
        "outputId": "385e3c1c-d999-47cc-d079-e80bd75baf80"
      },
      "execution_count": 423,
      "outputs": [
        {
          "output_type": "execute_result",
          "data": {
            "text/plain": [
              "tensor([0.9981, 0.0705, 0.5440, 0.8070, 0.2753, 0.0830, 0.7162, 0.9803, 0.2179])"
            ]
          },
          "metadata": {},
          "execution_count": 423
        }
      ]
    },
    {
      "cell_type": "code",
      "source": [
        "z = X.view(9)\n",
        "z"
      ],
      "metadata": {
        "colab": {
          "base_uri": "https://localhost:8080/"
        },
        "id": "ykTS0co6T8ni",
        "outputId": "38474cfd-0d90-4365-c3f6-ee66ecbdda95"
      },
      "execution_count": 424,
      "outputs": [
        {
          "output_type": "execute_result",
          "data": {
            "text/plain": [
              "tensor([0.9981, 0.0705, 0.5440, 0.8070, 0.2753, 0.0830, 0.7162, 0.9803, 0.2179])"
            ]
          },
          "metadata": {},
          "execution_count": 424
        }
      ]
    },
    {
      "cell_type": "code",
      "source": [
        "z[2]=5\n",
        "z"
      ],
      "metadata": {
        "colab": {
          "base_uri": "https://localhost:8080/"
        },
        "id": "u5BCoXy6U_yH",
        "outputId": "fb5d207c-7731-42a3-cc82-f2724475aa22"
      },
      "execution_count": 425,
      "outputs": [
        {
          "output_type": "execute_result",
          "data": {
            "text/plain": [
              "tensor([0.9981, 0.0705, 5.0000, 0.8070, 0.2753, 0.0830, 0.7162, 0.9803, 0.2179])"
            ]
          },
          "metadata": {},
          "execution_count": 425
        }
      ]
    },
    {
      "cell_type": "code",
      "source": [
        "X"
      ],
      "metadata": {
        "colab": {
          "base_uri": "https://localhost:8080/"
        },
        "id": "RYj4OQEBV75I",
        "outputId": "f837418c-2742-4c9a-9d6d-872c61059811"
      },
      "execution_count": 426,
      "outputs": [
        {
          "output_type": "execute_result",
          "data": {
            "text/plain": [
              "tensor([[0.9981, 0.0705, 5.0000],\n",
              "        [0.8070, 0.2753, 0.0830],\n",
              "        [0.7162, 0.9803, 0.2179]])"
            ]
          },
          "metadata": {},
          "execution_count": 426
        }
      ]
    },
    {
      "cell_type": "code",
      "source": [
        "y"
      ],
      "metadata": {
        "colab": {
          "base_uri": "https://localhost:8080/"
        },
        "id": "fq-SCZpwWRiO",
        "outputId": "5b4f5d03-e818-437b-bfeb-7716f1813e85"
      },
      "execution_count": 427,
      "outputs": [
        {
          "output_type": "execute_result",
          "data": {
            "text/plain": [
              "tensor([0.9981, 0.0705, 5.0000, 0.8070, 0.2753, 0.0830, 0.7162, 0.9803, 0.2179])"
            ]
          },
          "metadata": {},
          "execution_count": 427
        }
      ]
    },
    {
      "cell_type": "code",
      "source": [
        "x = torch.rand(3,3)\n",
        "x"
      ],
      "metadata": {
        "colab": {
          "base_uri": "https://localhost:8080/"
        },
        "id": "HPsmlku1WUt2",
        "outputId": "1860c92d-d7d3-475b-bd5f-bd023b0ffc82"
      },
      "execution_count": 428,
      "outputs": [
        {
          "output_type": "execute_result",
          "data": {
            "text/plain": [
              "tensor([[0.9492, 0.0356, 0.5412],\n",
              "        [0.3367, 0.3209, 0.1219],\n",
              "        [0.7174, 0.7983, 0.6704]])"
            ]
          },
          "metadata": {},
          "execution_count": 428
        }
      ]
    },
    {
      "cell_type": "code",
      "source": [
        "y = x.reshape(9)\n",
        "y"
      ],
      "metadata": {
        "colab": {
          "base_uri": "https://localhost:8080/"
        },
        "id": "LgqRqdwvW5wc",
        "outputId": "ee75883a-a1ac-40d1-c6d2-2eeffd8f5f7c"
      },
      "execution_count": 429,
      "outputs": [
        {
          "output_type": "execute_result",
          "data": {
            "text/plain": [
              "tensor([0.9492, 0.0356, 0.5412, 0.3367, 0.3209, 0.1219, 0.7174, 0.7983, 0.6704])"
            ]
          },
          "metadata": {},
          "execution_count": 429
        }
      ]
    },
    {
      "cell_type": "code",
      "source": [
        "z=x.view(9)\n",
        "z"
      ],
      "metadata": {
        "colab": {
          "base_uri": "https://localhost:8080/"
        },
        "id": "A4hL-A6IW_pa",
        "outputId": "9ff6dc3b-8bec-4933-93d7-24f75739f446"
      },
      "execution_count": 430,
      "outputs": [
        {
          "output_type": "execute_result",
          "data": {
            "text/plain": [
              "tensor([0.9492, 0.0356, 0.5412, 0.3367, 0.3209, 0.1219, 0.7174, 0.7983, 0.6704])"
            ]
          },
          "metadata": {},
          "execution_count": 430
        }
      ]
    },
    {
      "cell_type": "code",
      "source": [
        "x[1,2] = 5\n",
        "x"
      ],
      "metadata": {
        "colab": {
          "base_uri": "https://localhost:8080/"
        },
        "id": "d4mCYM7mXEE1",
        "outputId": "b350c54b-6ffb-4629-9e74-40daf1deb89e"
      },
      "execution_count": 431,
      "outputs": [
        {
          "output_type": "execute_result",
          "data": {
            "text/plain": [
              "tensor([[0.9492, 0.0356, 0.5412],\n",
              "        [0.3367, 0.3209, 5.0000],\n",
              "        [0.7174, 0.7983, 0.6704]])"
            ]
          },
          "metadata": {},
          "execution_count": 431
        }
      ]
    },
    {
      "cell_type": "code",
      "source": [
        "y"
      ],
      "metadata": {
        "colab": {
          "base_uri": "https://localhost:8080/"
        },
        "id": "TSUDu-BQXKzV",
        "outputId": "8553f285-0356-4d6b-8b09-3bb30d8bff20"
      },
      "execution_count": 432,
      "outputs": [
        {
          "output_type": "execute_result",
          "data": {
            "text/plain": [
              "tensor([0.9492, 0.0356, 0.5412, 0.3367, 0.3209, 5.0000, 0.7174, 0.7983, 0.6704])"
            ]
          },
          "metadata": {},
          "execution_count": 432
        }
      ]
    },
    {
      "cell_type": "code",
      "source": [
        "z"
      ],
      "metadata": {
        "colab": {
          "base_uri": "https://localhost:8080/"
        },
        "id": "AdXACfLeXLiO",
        "outputId": "9b2dd504-5e2d-4ff4-d4a7-5b335a7cacdd"
      },
      "execution_count": 433,
      "outputs": [
        {
          "output_type": "execute_result",
          "data": {
            "text/plain": [
              "tensor([0.9492, 0.0356, 0.5412, 0.3367, 0.3209, 5.0000, 0.7174, 0.7983, 0.6704])"
            ]
          },
          "metadata": {},
          "execution_count": 433
        }
      ]
    },
    {
      "cell_type": "code",
      "source": [
        "y[0]=5\n",
        "y"
      ],
      "metadata": {
        "colab": {
          "base_uri": "https://localhost:8080/"
        },
        "id": "96KMHgSxXOSG",
        "outputId": "7eec6d44-4aa8-4604-da71-8c02274a06af"
      },
      "execution_count": 434,
      "outputs": [
        {
          "output_type": "execute_result",
          "data": {
            "text/plain": [
              "tensor([5.0000, 0.0356, 0.5412, 0.3367, 0.3209, 5.0000, 0.7174, 0.7983, 0.6704])"
            ]
          },
          "metadata": {},
          "execution_count": 434
        }
      ]
    },
    {
      "cell_type": "code",
      "source": [
        "x"
      ],
      "metadata": {
        "colab": {
          "base_uri": "https://localhost:8080/"
        },
        "id": "DByLm3Y8XfgZ",
        "outputId": "0e0c2c1e-dbbc-4910-88fd-43652aa35885"
      },
      "execution_count": 435,
      "outputs": [
        {
          "output_type": "execute_result",
          "data": {
            "text/plain": [
              "tensor([[5.0000, 0.0356, 0.5412],\n",
              "        [0.3367, 0.3209, 5.0000],\n",
              "        [0.7174, 0.7983, 0.6704]])"
            ]
          },
          "metadata": {},
          "execution_count": 435
        }
      ]
    },
    {
      "cell_type": "code",
      "source": [
        "z"
      ],
      "metadata": {
        "colab": {
          "base_uri": "https://localhost:8080/"
        },
        "id": "wGyS2yU7XgzA",
        "outputId": "d1dcf665-3e6d-4c9e-8a87-3a891682eb55"
      },
      "execution_count": 436,
      "outputs": [
        {
          "output_type": "execute_result",
          "data": {
            "text/plain": [
              "tensor([5.0000, 0.0356, 0.5412, 0.3367, 0.3209, 5.0000, 0.7174, 0.7983, 0.6704])"
            ]
          },
          "metadata": {},
          "execution_count": 436
        }
      ]
    },
    {
      "cell_type": "code",
      "source": [
        "z[1]=5\n",
        "z"
      ],
      "metadata": {
        "colab": {
          "base_uri": "https://localhost:8080/"
        },
        "id": "jh0Vpxa-Xind",
        "outputId": "2f2c22d1-2868-4327-916a-4cdbd4b06af9"
      },
      "execution_count": 437,
      "outputs": [
        {
          "output_type": "execute_result",
          "data": {
            "text/plain": [
              "tensor([5.0000, 5.0000, 0.5412, 0.3367, 0.3209, 5.0000, 0.7174, 0.7983, 0.6704])"
            ]
          },
          "metadata": {},
          "execution_count": 437
        }
      ]
    },
    {
      "cell_type": "code",
      "source": [
        "x"
      ],
      "metadata": {
        "colab": {
          "base_uri": "https://localhost:8080/"
        },
        "id": "e4tWd3vDXuu3",
        "outputId": "2eaaf89d-e471-4763-dc57-ee9e43c7337c"
      },
      "execution_count": 438,
      "outputs": [
        {
          "output_type": "execute_result",
          "data": {
            "text/plain": [
              "tensor([[5.0000, 5.0000, 0.5412],\n",
              "        [0.3367, 0.3209, 5.0000],\n",
              "        [0.7174, 0.7983, 0.6704]])"
            ]
          },
          "metadata": {},
          "execution_count": 438
        }
      ]
    },
    {
      "cell_type": "code",
      "source": [
        "y"
      ],
      "metadata": {
        "colab": {
          "base_uri": "https://localhost:8080/"
        },
        "id": "OhajlVzNXvwB",
        "outputId": "550176c9-75ab-4efe-b48b-f847860e6189"
      },
      "execution_count": 439,
      "outputs": [
        {
          "output_type": "execute_result",
          "data": {
            "text/plain": [
              "tensor([5.0000, 5.0000, 0.5412, 0.3367, 0.3209, 5.0000, 0.7174, 0.7983, 0.6704])"
            ]
          },
          "metadata": {},
          "execution_count": 439
        }
      ]
    },
    {
      "cell_type": "code",
      "source": [
        "x = torch.rand(3,3)\n",
        "x"
      ],
      "metadata": {
        "colab": {
          "base_uri": "https://localhost:8080/"
        },
        "id": "apm5kMSWXxAL",
        "outputId": "e4f6a7f7-9de9-4a80-e2af-7094d1c5ebff"
      },
      "execution_count": 440,
      "outputs": [
        {
          "output_type": "execute_result",
          "data": {
            "text/plain": [
              "tensor([[0.8120, 0.9457, 0.8032],\n",
              "        [0.0809, 0.7423, 0.3624],\n",
              "        [0.9849, 0.0879, 0.3628]])"
            ]
          },
          "metadata": {},
          "execution_count": 440
        }
      ]
    },
    {
      "cell_type": "code",
      "source": [
        "y = x.reshape(9)\n",
        "y"
      ],
      "metadata": {
        "colab": {
          "base_uri": "https://localhost:8080/"
        },
        "id": "ic_zoIhRYAf8",
        "outputId": "5a6f6d55-43b6-4d92-d309-a308d256eda1"
      },
      "execution_count": 441,
      "outputs": [
        {
          "output_type": "execute_result",
          "data": {
            "text/plain": [
              "tensor([0.8120, 0.9457, 0.8032, 0.0809, 0.7423, 0.3624, 0.9849, 0.0879, 0.3628])"
            ]
          },
          "metadata": {},
          "execution_count": 441
        }
      ]
    },
    {
      "cell_type": "code",
      "source": [
        "y[0]=5\n",
        "y, x"
      ],
      "metadata": {
        "colab": {
          "base_uri": "https://localhost:8080/"
        },
        "id": "NmNuRThZYDjz",
        "outputId": "d73c76b3-a59a-4a06-a615-7efafd2f81ce"
      },
      "execution_count": 442,
      "outputs": [
        {
          "output_type": "execute_result",
          "data": {
            "text/plain": [
              "(tensor([5.0000, 0.9457, 0.8032, 0.0809, 0.7423, 0.3624, 0.9849, 0.0879, 0.3628]),\n",
              " tensor([[5.0000, 0.9457, 0.8032],\n",
              "         [0.0809, 0.7423, 0.3624],\n",
              "         [0.9849, 0.0879, 0.3628]]))"
            ]
          },
          "metadata": {},
          "execution_count": 442
        }
      ]
    },
    {
      "cell_type": "code",
      "source": [
        "X = torch.arange(4).reshape(2,2)\n",
        "X"
      ],
      "metadata": {
        "colab": {
          "base_uri": "https://localhost:8080/"
        },
        "id": "Y_JKAok2bN1e",
        "outputId": "28861075-a71f-45ba-d267-f2f12ded6ea2"
      },
      "execution_count": 443,
      "outputs": [
        {
          "output_type": "execute_result",
          "data": {
            "text/plain": [
              "tensor([[0, 1],\n",
              "        [2, 3]])"
            ]
          },
          "metadata": {},
          "execution_count": 443
        }
      ]
    },
    {
      "cell_type": "code",
      "source": [
        "torch.stack([X,X,X], dim=1)"
      ],
      "metadata": {
        "colab": {
          "base_uri": "https://localhost:8080/"
        },
        "id": "3fKtXOdebj63",
        "outputId": "2dbe5a9b-0462-49c1-ded9-2c21fb37276f"
      },
      "execution_count": 444,
      "outputs": [
        {
          "output_type": "execute_result",
          "data": {
            "text/plain": [
              "tensor([[[0, 1],\n",
              "         [0, 1],\n",
              "         [0, 1]],\n",
              "\n",
              "        [[2, 3],\n",
              "         [2, 3],\n",
              "         [2, 3]]])"
            ]
          },
          "metadata": {},
          "execution_count": 444
        }
      ]
    },
    {
      "cell_type": "code",
      "source": [
        "X = torch.arange(5).reshape(1,5)\n",
        "X, X.shape"
      ],
      "metadata": {
        "colab": {
          "base_uri": "https://localhost:8080/"
        },
        "id": "vt1kfBCEb-IR",
        "outputId": "121796e4-219e-4399-d060-ecc061aed012"
      },
      "execution_count": 445,
      "outputs": [
        {
          "output_type": "execute_result",
          "data": {
            "text/plain": [
              "(tensor([[0, 1, 2, 3, 4]]), torch.Size([1, 5]))"
            ]
          },
          "metadata": {},
          "execution_count": 445
        }
      ]
    },
    {
      "cell_type": "code",
      "source": [
        "X = X.squeeze()\n",
        "X, X.shape"
      ],
      "metadata": {
        "colab": {
          "base_uri": "https://localhost:8080/"
        },
        "id": "CG_MYVjFclDV",
        "outputId": "ababbec3-b293-40e1-e8a8-3c1912b348ab"
      },
      "execution_count": 446,
      "outputs": [
        {
          "output_type": "execute_result",
          "data": {
            "text/plain": [
              "(tensor([0, 1, 2, 3, 4]), torch.Size([5]))"
            ]
          },
          "metadata": {},
          "execution_count": 446
        }
      ]
    },
    {
      "cell_type": "code",
      "source": [
        "X = X.unsqueeze(dim=0)\n",
        "X, X.shape"
      ],
      "metadata": {
        "colab": {
          "base_uri": "https://localhost:8080/"
        },
        "id": "tnJ_1VhocygX",
        "outputId": "c59f3d81-6b35-477f-d5c6-f5fd4838e10d"
      },
      "execution_count": 447,
      "outputs": [
        {
          "output_type": "execute_result",
          "data": {
            "text/plain": [
              "(tensor([[0, 1, 2, 3, 4]]), torch.Size([1, 5]))"
            ]
          },
          "metadata": {},
          "execution_count": 447
        }
      ]
    },
    {
      "cell_type": "code",
      "source": [
        "X = torch.rand((256, 256, 3))\n",
        "Q = X.permute(2, 0, 1)\n",
        "X.shape, Q.shape"
      ],
      "metadata": {
        "colab": {
          "base_uri": "https://localhost:8080/"
        },
        "id": "VvWQN7nNdGs-",
        "outputId": "881fdaf0-c02c-42d0-e7a5-75ef8228fb30"
      },
      "execution_count": 448,
      "outputs": [
        {
          "output_type": "execute_result",
          "data": {
            "text/plain": [
              "(torch.Size([256, 256, 3]), torch.Size([3, 256, 256]))"
            ]
          },
          "metadata": {},
          "execution_count": 448
        }
      ]
    },
    {
      "cell_type": "code",
      "source": [
        "X = torch.arange(16).reshape(1, 4, 4)\n",
        "X"
      ],
      "metadata": {
        "colab": {
          "base_uri": "https://localhost:8080/"
        },
        "id": "wY_MujLqd-h5",
        "outputId": "bbfe6326-45bc-4fb9-b242-dbbf90fc20b1"
      },
      "execution_count": 449,
      "outputs": [
        {
          "output_type": "execute_result",
          "data": {
            "text/plain": [
              "tensor([[[ 0,  1,  2,  3],\n",
              "         [ 4,  5,  6,  7],\n",
              "         [ 8,  9, 10, 11],\n",
              "         [12, 13, 14, 15]]])"
            ]
          },
          "metadata": {},
          "execution_count": 449
        }
      ]
    },
    {
      "cell_type": "code",
      "source": [
        "X[0]"
      ],
      "metadata": {
        "colab": {
          "base_uri": "https://localhost:8080/"
        },
        "id": "i9NUR_W9ehs4",
        "outputId": "04dcf42f-ead9-41d0-fa6c-98de15fdbd6f"
      },
      "execution_count": 450,
      "outputs": [
        {
          "output_type": "execute_result",
          "data": {
            "text/plain": [
              "tensor([[ 0,  1,  2,  3],\n",
              "        [ 4,  5,  6,  7],\n",
              "        [ 8,  9, 10, 11],\n",
              "        [12, 13, 14, 15]])"
            ]
          },
          "metadata": {},
          "execution_count": 450
        }
      ]
    },
    {
      "cell_type": "code",
      "source": [
        "X[0][2]"
      ],
      "metadata": {
        "colab": {
          "base_uri": "https://localhost:8080/"
        },
        "id": "Ae7-c4OBemr2",
        "outputId": "06447f59-f309-4245-8197-60e058209e78"
      },
      "execution_count": 451,
      "outputs": [
        {
          "output_type": "execute_result",
          "data": {
            "text/plain": [
              "tensor([ 8,  9, 10, 11])"
            ]
          },
          "metadata": {},
          "execution_count": 451
        }
      ]
    },
    {
      "cell_type": "code",
      "source": [
        "X[0][2][1]"
      ],
      "metadata": {
        "colab": {
          "base_uri": "https://localhost:8080/"
        },
        "id": "WxGm27Baeozv",
        "outputId": "e8282d8c-9b0f-4d13-f8fb-e716b94a25c6"
      },
      "execution_count": 452,
      "outputs": [
        {
          "output_type": "execute_result",
          "data": {
            "text/plain": [
              "tensor(9)"
            ]
          },
          "metadata": {},
          "execution_count": 452
        }
      ]
    },
    {
      "cell_type": "code",
      "source": [
        "X[:,:, 3]"
      ],
      "metadata": {
        "colab": {
          "base_uri": "https://localhost:8080/"
        },
        "id": "fBzHyXPLevcP",
        "outputId": "3f9ae86d-8972-4e1a-e88a-eda0c51e9bdb"
      },
      "execution_count": 453,
      "outputs": [
        {
          "output_type": "execute_result",
          "data": {
            "text/plain": [
              "tensor([[ 3,  7, 11, 15]])"
            ]
          },
          "metadata": {},
          "execution_count": 453
        }
      ]
    },
    {
      "cell_type": "code",
      "source": [
        "X[:,2,1:3]"
      ],
      "metadata": {
        "colab": {
          "base_uri": "https://localhost:8080/"
        },
        "id": "rjejjyqHe6su",
        "outputId": "e1abe433-7e5a-4b45-e462-2cb3e4ea3308"
      },
      "execution_count": 454,
      "outputs": [
        {
          "output_type": "execute_result",
          "data": {
            "text/plain": [
              "tensor([[ 9, 10]])"
            ]
          },
          "metadata": {},
          "execution_count": 454
        }
      ]
    }
  ],
  "metadata": {
    "colab": {
      "collapsed_sections": [],
      "provenance": []
    },
    "kernelspec": {
      "display_name": "Python 3",
      "name": "python3"
    },
    "language_info": {
      "name": "python"
    }
  },
  "nbformat": 4,
  "nbformat_minor": 0
}