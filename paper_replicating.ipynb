{
  "nbformat": 4,
  "nbformat_minor": 0,
  "metadata": {
    "colab": {
      "provenance": [],
      "include_colab_link": true
    },
    "kernelspec": {
      "name": "python3",
      "display_name": "Python 3"
    },
    "language_info": {
      "name": "python"
    }
  },
  "cells": [
    {
      "cell_type": "markdown",
      "metadata": {
        "id": "view-in-github",
        "colab_type": "text"
      },
      "source": [
        "<a href=\"https://colab.research.google.com/github/daspartho/learn-pytorch/blob/main/paper_replicating.ipynb\" target=\"_parent\"><img src=\"https://colab.research.google.com/assets/colab-badge.svg\" alt=\"Open In Colab\"/></a>"
      ]
    },
    {
      "cell_type": "code",
      "execution_count": 1,
      "metadata": {
        "id": "3KnVoqdiQ0vQ",
        "outputId": "aae1b96b-e30c-4f0c-b9ac-d67283f6e947",
        "colab": {
          "base_uri": "https://localhost:8080/"
        }
      },
      "outputs": [
        {
          "output_type": "stream",
          "name": "stdout",
          "text": [
            "[INFO] Couldn't find torchinfo... installing it.\n",
            "[INFO] Couldn't find modular scripts... downloading from GitHub.\n",
            "Cloning into 'learn-pytorch'...\n",
            "remote: Enumerating objects: 133, done.\u001b[K\n",
            "remote: Counting objects: 100% (123/123), done.\u001b[K\n",
            "remote: Compressing objects: 100% (66/66), done.\u001b[K\n",
            "remote: Total 133 (delta 57), reused 117 (delta 54), pack-reused 10\u001b[K\n",
            "Receiving objects: 100% (133/133), 8.36 MiB | 24.52 MiB/s, done.\n",
            "Resolving deltas: 100% (57/57), done.\n",
            "[INFO] Couldn't find going_modular or helper_functions scripts... downloading them from GitHub.\n",
            "Cloning into 'pytorch-deep-learning'...\n",
            "remote: Enumerating objects: 3107, done.\u001b[K\n",
            "remote: Counting objects: 100% (40/40), done.\u001b[K\n",
            "remote: Compressing objects: 100% (27/27), done.\u001b[K\n",
            "remote: Total 3107 (delta 14), reused 34 (delta 12), pack-reused 3067\u001b[K\n",
            "Receiving objects: 100% (3107/3107), 640.08 MiB | 21.63 MiB/s, done.\n",
            "Resolving deltas: 100% (1766/1766), done.\n",
            "Checking out files: 100% (218/218), done.\n"
          ]
        }
      ],
      "source": [
        "import matplotlib.pyplot as plt\n",
        "import torchvision\n",
        "import torch\n",
        "\n",
        "from torch import nn\n",
        "from torchvision import transforms\n",
        "\n",
        "try:\n",
        "    from torchinfo import summary\n",
        "except:\n",
        "    print(\"[INFO] Couldn't find torchinfo... installing it.\")\n",
        "    !pip install -q torchinfo\n",
        "    from torchinfo import summary\n",
        "\n",
        "try:\n",
        "    from modular import data_setup, engine\n",
        "except:\n",
        "    print(\"[INFO] Couldn't find modular scripts... downloading from GitHub.\")\n",
        "    !git clone https://github.com/daspartho/learn-pytorch\n",
        "    !mv learn-pytorch/modular .\n",
        "    !rm -rf learn-pytorch\n",
        "    from modular import data_setup, engine\n",
        "\n",
        "# Try to import the going_modular directory, download it from GitHub if it doesn't work\n",
        "try:\n",
        "    from going_modular.going_modular import data_setup, engine\n",
        "    from helper_functions import download_data, set_seeds, plot_loss_curves\n",
        "except:\n",
        "    # Get the going_modular scripts\n",
        "    print(\"[INFO] Couldn't find going_modular or helper_functions scripts... downloading them from GitHub.\")\n",
        "    !git clone https://github.com/mrdbourke/pytorch-deep-learning\n",
        "    !mv pytorch-deep-learning/going_modular .\n",
        "    !mv pytorch-deep-learning/helper_functions.py . # get the helper_functions.py script\n",
        "    !rm -rf pytorch-deep-learning\n",
        "    from going_modular.going_modular import data_setup, engine\n",
        "    from helper_functions import download_data, set_seeds, plot_loss_curves"
      ]
    },
    {
      "cell_type": "code",
      "source": [
        "device = \"cuda\" if torch.cuda.is_available() else \"cpu\"\n",
        "device"
      ],
      "metadata": {
        "colab": {
          "base_uri": "https://localhost:8080/",
          "height": 36
        },
        "id": "kiRBQR7fcjuz",
        "outputId": "6299bfbf-38ac-4fbb-c98f-812b1c720917"
      },
      "execution_count": 2,
      "outputs": [
        {
          "output_type": "execute_result",
          "data": {
            "text/plain": [
              "'cpu'"
            ],
            "application/vnd.google.colaboratory.intrinsic+json": {
              "type": "string"
            }
          },
          "metadata": {},
          "execution_count": 2
        }
      ]
    },
    {
      "cell_type": "code",
      "source": [
        "image_path = download_data(source=\"https://github.com/mrdbourke/pytorch-deep-learning/raw/main/data/pizza_steak_sushi.zip\",\n",
        "                           destination=\"pizza_steak_sushi\")\n",
        "image_path"
      ],
      "metadata": {
        "colab": {
          "base_uri": "https://localhost:8080/"
        },
        "id": "UuEiVmBlcsJQ",
        "outputId": "9d657390-4619-4e33-f710-49fce920b0b7"
      },
      "execution_count": 3,
      "outputs": [
        {
          "output_type": "stream",
          "name": "stdout",
          "text": [
            "[INFO] Did not find data/pizza_steak_sushi directory, creating one...\n",
            "[INFO] Downloading pizza_steak_sushi.zip from https://github.com/mrdbourke/pytorch-deep-learning/raw/main/data/pizza_steak_sushi.zip...\n",
            "[INFO] Unzipping pizza_steak_sushi.zip data...\n"
          ]
        },
        {
          "output_type": "execute_result",
          "data": {
            "text/plain": [
              "PosixPath('data/pizza_steak_sushi')"
            ]
          },
          "metadata": {},
          "execution_count": 3
        }
      ]
    },
    {
      "cell_type": "code",
      "source": [
        "train_dir = image_path/ \"train\"\n",
        "test_dir = image_path/ \"test\""
      ],
      "metadata": {
        "id": "ja_nUrQsdWhj"
      },
      "execution_count": 4,
      "outputs": []
    },
    {
      "cell_type": "code",
      "source": [
        "IMG_SIZE = 224\n",
        "\n",
        "transforms = transforms.Compose([\n",
        "    transforms.Resize((IMG_SIZE, IMG_SIZE)),\n",
        "    transforms.ToTensor()\n",
        "])"
      ],
      "metadata": {
        "id": "3F23ssW4dieY"
      },
      "execution_count": 5,
      "outputs": []
    },
    {
      "cell_type": "code",
      "source": [
        "BATCH_SIZE = 32\n",
        "\n",
        "train_dataloader, test_dataloader, class_names = data_setup.create_dataloaders(\n",
        "    train_dir,\n",
        "    test_dir,\n",
        "    transforms,\n",
        "    BATCH_SIZE,\n",
        ")"
      ],
      "metadata": {
        "id": "i4HPbG7wfJ_E"
      },
      "execution_count": 6,
      "outputs": []
    },
    {
      "cell_type": "code",
      "source": [
        "image_batch, label_batch = next(iter(train_dataloader))\n",
        "\n",
        "image, label = image_batch[0], label_batch[0]\n",
        "\n",
        "image.shape, label"
      ],
      "metadata": {
        "colab": {
          "base_uri": "https://localhost:8080/"
        },
        "id": "WBBGMDYPhDLh",
        "outputId": "e3cf2c7d-edd9-4a08-c749-516eb266adf5"
      },
      "execution_count": 7,
      "outputs": [
        {
          "output_type": "execute_result",
          "data": {
            "text/plain": [
              "(torch.Size([3, 224, 224]), tensor(2))"
            ]
          },
          "metadata": {},
          "execution_count": 7
        }
      ]
    },
    {
      "cell_type": "code",
      "source": [
        "plt.imshow(image.permute(1,2,0))\n",
        "plt.title(class_names[label])\n",
        "plt.axis(False)"
      ],
      "metadata": {
        "colab": {
          "base_uri": "https://localhost:8080/",
          "height": 281
        },
        "id": "om2qc1a2hYqn",
        "outputId": "94ed5ca4-2980-40be-c758-50bea10582ab"
      },
      "execution_count": 8,
      "outputs": [
        {
          "output_type": "execute_result",
          "data": {
            "text/plain": [
              "(-0.5, 223.5, 223.5, -0.5)"
            ]
          },
          "metadata": {},
          "execution_count": 8
        },
        {
          "output_type": "display_data",
          "data": {
            "text/plain": [
              "<Figure size 432x288 with 1 Axes>"
            ],
            "image/png": "[encoded data removed]"
          },
          "metadata": {
            "needs_background": "light"
          }
        }
      ]
    },
    {
      "cell_type": "code",
      "source": [
        "class PatchEmbedding(nn.Module):\n",
        "\n",
        "    def __init__(self,\n",
        "                 in_channels:int=3,\n",
        "                 patch_size:int=16,\n",
        "                 embedding_dim:int=768):\n",
        "        super().__init__()\n",
        "\n",
        "        self.patcher = nn.Conv2d(\n",
        "            in_channels=in_channels,\n",
        "            out_channels=embedding_dim,\n",
        "            kernel_size=patch_size,\n",
        "            stride=patch_size,\n",
        "            padding=0,\n",
        "        )\n",
        "\n",
        "        self.flatten = nn.Flatten(\n",
        "            start_dim=2, \n",
        "            end_dim=3,\n",
        "            )\n",
        "\n",
        "    def forward(self, x):\n",
        "        x_patched = self.patcher(x)\n",
        "        x_flattened = self.flatten(x_patched)\n",
        "        return x_flattened.permute(0,2,1)"
      ],
      "metadata": {
        "id": "iQNX30COIBuI"
      },
      "execution_count": 9,
      "outputs": []
    },
    {
      "cell_type": "code",
      "source": [
        "print(f\"Image shape: {image.shape}\")\n",
        "\n",
        "x = image.unsqueeze(dim=0)\n",
        "print(f\"Image with batch dim shape: {x.shape}\")\n",
        "\n",
        "patchify = PatchEmbedding()\n",
        "patch_embedding = patchify(x)\n",
        "print(f\"Patch embedding shape: {patch_embedding.shape}\")\n",
        "\n",
        "class_token = nn.Parameter(\n",
        "    torch.randn(1, 1, 768), \n",
        "    requires_grad=True,\n",
        "    )\n",
        "print(f\"Class token shape: {class_token.shape}\")\n",
        "\n",
        "patch_embedding_class_token = torch.cat(\n",
        "    (class_token, patch_embedding), \n",
        "    dim=1,\n",
        "    )\n",
        "print(f\"Patch embedding class token shape: {patch_embedding_class_token.shape}\")\n",
        "\n",
        "position_embedding = nn.Parameter(\n",
        "    torch.randn(1, 197, 768),\n",
        "    requires_grad=True,\n",
        ")\n",
        "print(f\"Position embedding shape: {position_embedding.shape}\")\n",
        "\n",
        "patch_position_embedding = patch_embedding_class_token + position_embedding\n",
        "print(f\"Patch position embedding shape: {patch_position_embedding.shape}\")"
      ],
      "metadata": {
        "id": "aciJe37QM_5c",
        "outputId": "544bfebe-b372-4430-95ee-57ce8600c2d0",
        "colab": {
          "base_uri": "https://localhost:8080/"
        }
      },
      "execution_count": 10,
      "outputs": [
        {
          "output_type": "stream",
          "name": "stdout",
          "text": [
            "Image shape: torch.Size([3, 224, 224])\n",
            "Image with batch dim shape: torch.Size([1, 3, 224, 224])\n",
            "Patch embedding shape: torch.Size([1, 196, 768])\n",
            "Class token shape: torch.Size([1, 1, 768])\n",
            "Patch embedding class token shape: torch.Size([1, 197, 768])\n",
            "Position embedding shape: torch.Size([1, 197, 768])\n",
            "Patch position embedding shape: torch.Size([1, 197, 768])\n"
          ]
        }
      ]
    },
    {
      "cell_type": "code",
      "source": [
        "class MSABlock(nn.Module):\n",
        "    def __init__(self,\n",
        "                 embedding_dim:int=768,\n",
        "                 num_heads:int=12,\n",
        "                 attn_dropout:int=0):\n",
        "        super().__init__()\n",
        "\n",
        "        self.layer_norm = nn.LayerNorm(normalized_shape=embedding_dim)\n",
        "\n",
        "        self.multihead_attn = nn.MultiheadAttention(\n",
        "            embed_dim = embedding_dim,\n",
        "            num_heads = num_heads,\n",
        "            dropout=attn_dropout,\n",
        "            batch_first=True\n",
        "        )\n",
        "\n",
        "    def forward(self, x):\n",
        "        x = self.layer_norm(x)\n",
        "        attn_output, _ = self.multihead_attn(\n",
        "            query=x,\n",
        "            key=x,\n",
        "            value=x,\n",
        "            need_weights=False\n",
        "        )\n",
        "        return attn_output"
      ],
      "metadata": {
        "id": "Xe5l1bldVg6B"
      },
      "execution_count": 11,
      "outputs": []
    },
    {
      "cell_type": "code",
      "source": [
        "msa_block = MSABlock()\n",
        "\n",
        "print(f\"Input shape to MSA block: {patch_position_embedding.shape}\")\n",
        "msa_block_output = msa_block(patch_position_embedding)\n",
        "print(f\"Output shape of MSA block: {msa_block_output.shape}\")"
      ],
      "metadata": {
        "colab": {
          "base_uri": "https://localhost:8080/"
        },
        "id": "Iddyn_eLaUYH",
        "outputId": "07c3860a-4aa0-4b39-a59a-69d1ed6d2da6"
      },
      "execution_count": 13,
      "outputs": [
        {
          "output_type": "stream",
          "name": "stdout",
          "text": [
            "Input shape to MSA block: torch.Size([1, 197, 768])\n",
            "Output shape of MSA block: torch.Size([1, 197, 768])\n"
          ]
        }
      ]
    },
    {
      "cell_type": "code",
      "source": [
        "class MLPBlock(nn.Module):\n",
        "    def __init__(self,\n",
        "                 embedding_dim: int=768,\n",
        "                 mlp_size:int=3072,\n",
        "                 dropout:int=0.1):\n",
        "        super().__init__()\n",
        "\n",
        "        self.layer_norm = nn.LayerNorm(normalized_shape=embedding_dim)\n",
        "\n",
        "        self.mlp = nn.Sequential(\n",
        "            nn.Linear(\n",
        "                in_features=embedding_dim,\n",
        "                out_features=mlp_size,\n",
        "                ),\n",
        "            nn.GELU(),\n",
        "            nn.Dropout(p=dropout),\n",
        "            nn.Linear(\n",
        "                in_features=mlp_size,\n",
        "                out_features=embedding_dim,\n",
        "                ),\n",
        "            nn.Dropout(p=dropout)\n",
        "        )\n",
        "\n",
        "    def forward(self, x):\n",
        "        x = self.layer_norm(x)\n",
        "        x = self.mlp(x)\n",
        "        return x"
      ],
      "metadata": {
        "id": "ugFlvnALcdyJ"
      },
      "execution_count": 15,
      "outputs": []
    },
    {
      "cell_type": "code",
      "source": [
        "mlp_block = MLPBlock()\n",
        "\n",
        "print(f\"Input shape to MLP block: {msa_block_output.shape}\")\n",
        "mlp_block_output = mlp_block(msa_block_output)\n",
        "print(f\"Output shape of MLP block: {mlp_block_output.shape}\")"
      ],
      "metadata": {
        "colab": {
          "base_uri": "https://localhost:8080/"
        },
        "id": "d4AiQpBgf7OO",
        "outputId": "406af94f-18f1-4c97-9988-ed9dc708b7d4"
      },
      "execution_count": 16,
      "outputs": [
        {
          "output_type": "stream",
          "name": "stdout",
          "text": [
            "Input shape to MLP block: torch.Size([1, 197, 768])\n",
            "Output shape of MLP block: torch.Size([1, 197, 768])\n"
          ]
        }
      ]
    },
    {
      "cell_type": "code",
      "source": [
        "class TransformerEncoderBlock(nn.Module):\n",
        "    def __init__(self,\n",
        "                 embedding_dim:int=768,\n",
        "                 num_heads:int=12,\n",
        "                 attn_dropout:int=0,\n",
        "                 mlp_size:int=3072,\n",
        "                 mlp_dropout:int=0.1):\n",
        "        super().__init__()\n",
        "\n",
        "        self.msa_block = MSABlock(\n",
        "            embedding_dim=embedding_dim,\n",
        "            num_heads=num_heads,\n",
        "            attn_dropout=attn_dropout,\n",
        "            )\n",
        "        \n",
        "        self.mlp_block = MLPBlock(\n",
        "            embedding_dim=embedding_dim,\n",
        "            mlp_size=mlp_size,\n",
        "            dropout=mlp_dropout,\n",
        "        )\n",
        "\n",
        "    def forward(self, x):\n",
        "        x = self.msa_block(x) + x\n",
        "        x = self.mlp_block(x) + x\n",
        "        return x"
      ],
      "metadata": {
        "id": "BIATyfbChoaM"
      },
      "execution_count": 17,
      "outputs": []
    },
    {
      "cell_type": "code",
      "source": [
        "transformer_encoder_block = TransformerEncoderBlock()\n",
        "\n",
        "summary(model=transformer_encoder_block,\n",
        "        input_size=(1, 197, 768),\n",
        "        col_names=[\"input_size\", \"output_size\", \"num_params\", \"trainable\"],\n",
        "        col_width=20,\n",
        "        row_settings=[\"var_names\"])"
      ],
      "metadata": {
        "id": "Fh_Tp9NykvI5",
        "outputId": "080505e2-5c91-4b12-f4eb-3a5a0204cbf6",
        "colab": {
          "base_uri": "https://localhost:8080/"
        }
      },
      "execution_count": 19,
      "outputs": [
        {
          "output_type": "execute_result",
          "data": {
            "text/plain": [
              "==================================================================================================================================\n",
              "Layer (type (var_name))                            Input Shape          Output Shape         Param #              Trainable\n",
              "==================================================================================================================================\n",
              "TransformerEncoderBlock (TransformerEncoderBlock)  [1, 197, 768]        [1, 197, 768]        --                   True\n",
              "├─MSABlock (msa_block)                             [1, 197, 768]        [1, 197, 768]        --                   True\n",
              "│    └─LayerNorm (layer_norm)                      [1, 197, 768]        [1, 197, 768]        1,536                True\n",
              "│    └─MultiheadAttention (multihead_attn)         --                   [1, 197, 768]        2,362,368            True\n",
              "├─MLPBlock (mlp_block)                             [1, 197, 768]        [1, 197, 768]        --                   True\n",
              "│    └─LayerNorm (layer_norm)                      [1, 197, 768]        [1, 197, 768]        1,536                True\n",
              "│    └─Sequential (mlp)                            [1, 197, 768]        [1, 197, 768]        --                   True\n",
              "│    │    └─Linear (0)                             [1, 197, 768]        [1, 197, 3072]       2,362,368            True\n",
              "│    │    └─GELU (1)                               [1, 197, 3072]       [1, 197, 3072]       --                   --\n",
              "│    │    └─Dropout (2)                            [1, 197, 3072]       [1, 197, 3072]       --                   --\n",
              "│    │    └─Linear (3)                             [1, 197, 3072]       [1, 197, 768]        2,360,064            True\n",
              "│    │    └─Dropout (4)                            [1, 197, 768]        [1, 197, 768]        --                   --\n",
              "==================================================================================================================================\n",
              "Total params: 7,087,872\n",
              "Trainable params: 7,087,872\n",
              "Non-trainable params: 0\n",
              "Total mult-adds (M): 4.73\n",
              "==================================================================================================================================\n",
              "Input size (MB): 0.61\n",
              "Forward/backward pass size (MB): 8.47\n",
              "Params size (MB): 18.90\n",
              "Estimated Total Size (MB): 27.98\n",
              "=================================================================================================================================="
            ]
          },
          "metadata": {},
          "execution_count": 19
        }
      ]
    }
  ]
}