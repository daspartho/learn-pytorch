{
  "nbformat": 4,
  "nbformat_minor": 0,
  "metadata": {
    "colab": {
      "provenance": [],
      "authorship_tag": "ABX9TyNLwipq2fzW6PELMDxI1Up6",
      "include_colab_link": true
    },
    "kernelspec": {
      "name": "python3",
      "display_name": "Python 3"
    },
    "language_info": {
      "name": "python"
    }
  },
  "cells": [
    {
      "cell_type": "markdown",
      "metadata": {
        "id": "view-in-github",
        "colab_type": "text"
      },
      "source": [
        "<a href=\"https://colab.research.google.com/github/daspartho/learn-pytorch/blob/main/experiment_tracking.ipynb\" target=\"_parent\"><img src=\"https://colab.research.google.com/assets/colab-badge.svg\" alt=\"Open In Colab\"/></a>"
      ]
    },
    {
      "cell_type": "code",
      "execution_count": 1,
      "metadata": {
        "id": "n96GZ4rNxyPZ",
        "outputId": "ad5ae869-4f58-4f93-bf54-3b1d68569967",
        "colab": {
          "base_uri": "https://localhost:8080/"
        }
      },
      "outputs": [
        {
          "output_type": "stream",
          "name": "stdout",
          "text": [
            "[INFO] Couldn't find torchinfo... installing it.\n",
            "[INFO] Couldn't find modular scripts... downloading from GitHub.\n",
            "Cloning into 'learn-pytorch'...\n",
            "remote: Enumerating objects: 115, done.\u001b[K\n",
            "remote: Counting objects: 100% (115/115), done.\u001b[K\n",
            "remote: Compressing objects: 100% (111/111), done.\u001b[K\n",
            "remote: Total 115 (delta 49), reused 8 (delta 1), pack-reused 0\u001b[K\n",
            "Receiving objects: 100% (115/115), 4.91 MiB | 12.53 MiB/s, done.\n",
            "Resolving deltas: 100% (49/49), done.\n"
          ]
        }
      ],
      "source": [
        "import matplotlib.pyplot as plt\n",
        "import torchvision\n",
        "import torch\n",
        "\n",
        "from torch import nn\n",
        "from torchvision import transforms\n",
        "\n",
        "try:\n",
        "    from torchinfo import summary\n",
        "except:\n",
        "    print(\"[INFO] Couldn't find torchinfo... installing it.\")\n",
        "    !pip install -q torchinfo\n",
        "    from torchinfo import summary\n",
        "\n",
        "try:\n",
        "    from modular  import data_setup, engine\n",
        "except:\n",
        "    print(\"[INFO] Couldn't find modular scripts... downloading from GitHub.\")\n",
        "    !git clone https://github.com/daspartho/learn-pytorch\n",
        "    !mv learn-pytorch/modular .\n",
        "    !rm -rf learn-pytorch\n",
        "    from modular import data_setup, engine"
      ]
    },
    {
      "cell_type": "code",
      "source": [
        "device = \"cuda\" if torch.cuda.is_available() else \"cpu\"\n",
        "device"
      ],
      "metadata": {
        "id": "tA3LK0kNIq_8",
        "outputId": "0f72c5c5-f49a-4e84-f602-827e38e89930",
        "colab": {
          "base_uri": "https://localhost:8080/",
          "height": 36
        }
      },
      "execution_count": 2,
      "outputs": [
        {
          "output_type": "execute_result",
          "data": {
            "text/plain": [
              "'cpu'"
            ],
            "application/vnd.google.colaboratory.intrinsic+json": {
              "type": "string"
            }
          },
          "metadata": {},
          "execution_count": 2
        }
      ]
    },
    {
      "cell_type": "code",
      "source": [
        "def set_seeds(seed: int=42):\n",
        "    torch.manual_seed(seed)\n",
        "    torch.cuda.manual_seed(seed)"
      ],
      "metadata": {
        "id": "QrmqEC3KI1s8"
      },
      "execution_count": 3,
      "outputs": []
    },
    {
      "cell_type": "code",
      "source": [
        "!python modular/get_data.py"
      ],
      "metadata": {
        "id": "9YMw0L31JLHQ",
        "outputId": "a6e30b89-b824-4bcc-da5c-a7610c11b8b6",
        "colab": {
          "base_uri": "https://localhost:8080/"
        }
      },
      "execution_count": 4,
      "outputs": [
        {
          "output_type": "stream",
          "name": "stdout",
          "text": [
            "Did not find data/pizza_steak_sushi directory, creating one...\n",
            "Downloading data...\n",
            "Unzipping data...\n"
          ]
        }
      ]
    },
    {
      "cell_type": "code",
      "source": [
        "train_dir = \"data/pizza_steak_sushi/train\"\n",
        "test_dir = \"data/pizza_steak_sushi/test\"\n",
        "\n",
        "weights = torchvision.models.EfficientNet_B0_Weights.DEFAULT\n",
        "transforms = weights.transforms()\n",
        "\n",
        "train_dataloader, test_dataloader = data_setup.create_dataloaders(\n",
        "    train_dir,\n",
        "    test_dir,\n",
        "    transforms,\n",
        "    batch_size=32,\n",
        ")"
      ],
      "metadata": {
        "id": "jWdPhtZ-KFWZ"
      },
      "execution_count": 6,
      "outputs": []
    },
    {
      "cell_type": "code",
      "source": [
        "model = torchvision.models.efficientnet_b0(weights=weights).to(device)\n",
        "\n",
        "for param in model.features.parameters():\n",
        "    param.requires_grad = False\n",
        "\n",
        "set_seeds()\n",
        "\n",
        "model.classifier = nn.Sequential(\n",
        "    nn.Dropout(\n",
        "        p=0.2, \n",
        "        inplace=True\n",
        "        ),\n",
        "    nn.Linear(\n",
        "        in_features=1280, \n",
        "        out_features=3, \n",
        "        bias=True\n",
        "        )\n",
        "    )\n",
        "\n",
        "summary(model=model,\n",
        "        input_size = (32,3,224,224),\n",
        "        col_names=[\"input_size\", \"output_size\", \"num_params\", \"trainable\"],\n",
        "        row_settings=[\"var_names\"]\n",
        "        )"
      ],
      "metadata": {
        "id": "R0Dt4Jp_MNFF",
        "outputId": "b8b0ce20-dd13-4c93-dc06-c2407cc623fa",
        "colab": {
          "base_uri": "https://localhost:8080/"
        }
      },
      "execution_count": 10,
      "outputs": [
        {
          "output_type": "execute_result",
          "data": {
            "text/plain": [
              "================================================================================================================================================================\n",
              "Layer (type (var_name))                                      Input Shape               Output Shape              Param #                   Trainable\n",
              "================================================================================================================================================================\n",
              "EfficientNet (EfficientNet)                                  [32, 3, 224, 224]         [32, 3]                   --                        Partial\n",
              "├─Sequential (features)                                      [32, 3, 224, 224]         [32, 1280, 7, 7]          --                        False\n",
              "│    └─Conv2dNormActivation (0)                              [32, 3, 224, 224]         [32, 32, 112, 112]        --                        False\n",
              "│    │    └─Conv2d (0)                                       [32, 3, 224, 224]         [32, 32, 112, 112]        (864)                     False\n",
              "│    │    └─BatchNorm2d (1)                                  [32, 32, 112, 112]        [32, 32, 112, 112]        (64)                      False\n",
              "│    │    └─SiLU (2)                                         [32, 32, 112, 112]        [32, 32, 112, 112]        --                        --\n",
              "│    └─Sequential (1)                                        [32, 32, 112, 112]        [32, 16, 112, 112]        --                        False\n",
              "│    │    └─MBConv (0)                                       [32, 32, 112, 112]        [32, 16, 112, 112]        (1,448)                   False\n",
              "│    └─Sequential (2)                                        [32, 16, 112, 112]        [32, 24, 56, 56]          --                        False\n",
              "│    │    └─MBConv (0)                                       [32, 16, 112, 112]        [32, 24, 56, 56]          (6,004)                   False\n",
              "│    │    └─MBConv (1)                                       [32, 24, 56, 56]          [32, 24, 56, 56]          (10,710)                  False\n",
              "│    └─Sequential (3)                                        [32, 24, 56, 56]          [32, 40, 28, 28]          --                        False\n",
              "│    │    └─MBConv (0)                                       [32, 24, 56, 56]          [32, 40, 28, 28]          (15,350)                  False\n",
              "│    │    └─MBConv (1)                                       [32, 40, 28, 28]          [32, 40, 28, 28]          (31,290)                  False\n",
              "│    └─Sequential (4)                                        [32, 40, 28, 28]          [32, 80, 14, 14]          --                        False\n",
              "│    │    └─MBConv (0)                                       [32, 40, 28, 28]          [32, 80, 14, 14]          (37,130)                  False\n",
              "│    │    └─MBConv (1)                                       [32, 80, 14, 14]          [32, 80, 14, 14]          (102,900)                 False\n",
              "│    │    └─MBConv (2)                                       [32, 80, 14, 14]          [32, 80, 14, 14]          (102,900)                 False\n",
              "│    └─Sequential (5)                                        [32, 80, 14, 14]          [32, 112, 14, 14]         --                        False\n",
              "│    │    └─MBConv (0)                                       [32, 80, 14, 14]          [32, 112, 14, 14]         (126,004)                 False\n",
              "│    │    └─MBConv (1)                                       [32, 112, 14, 14]         [32, 112, 14, 14]         (208,572)                 False\n",
              "│    │    └─MBConv (2)                                       [32, 112, 14, 14]         [32, 112, 14, 14]         (208,572)                 False\n",
              "│    └─Sequential (6)                                        [32, 112, 14, 14]         [32, 192, 7, 7]           --                        False\n",
              "│    │    └─MBConv (0)                                       [32, 112, 14, 14]         [32, 192, 7, 7]           (262,492)                 False\n",
              "│    │    └─MBConv (1)                                       [32, 192, 7, 7]           [32, 192, 7, 7]           (587,952)                 False\n",
              "│    │    └─MBConv (2)                                       [32, 192, 7, 7]           [32, 192, 7, 7]           (587,952)                 False\n",
              "│    │    └─MBConv (3)                                       [32, 192, 7, 7]           [32, 192, 7, 7]           (587,952)                 False\n",
              "│    └─Sequential (7)                                        [32, 192, 7, 7]           [32, 320, 7, 7]           --                        False\n",
              "│    │    └─MBConv (0)                                       [32, 192, 7, 7]           [32, 320, 7, 7]           (717,232)                 False\n",
              "│    └─Conv2dNormActivation (8)                              [32, 320, 7, 7]           [32, 1280, 7, 7]          --                        False\n",
              "│    │    └─Conv2d (0)                                       [32, 320, 7, 7]           [32, 1280, 7, 7]          (409,600)                 False\n",
              "│    │    └─BatchNorm2d (1)                                  [32, 1280, 7, 7]          [32, 1280, 7, 7]          (2,560)                   False\n",
              "│    │    └─SiLU (2)                                         [32, 1280, 7, 7]          [32, 1280, 7, 7]          --                        --\n",
              "├─AdaptiveAvgPool2d (avgpool)                                [32, 1280, 7, 7]          [32, 1280, 1, 1]          --                        --\n",
              "├─Sequential (classifier)                                    [32, 1280]                [32, 3]                   --                        True\n",
              "│    └─Dropout (0)                                           [32, 1280]                [32, 1280]                --                        --\n",
              "│    └─Linear (1)                                            [32, 1280]                [32, 3]                   3,843                     True\n",
              "================================================================================================================================================================\n",
              "Total params: 4,011,391\n",
              "Trainable params: 3,843\n",
              "Non-trainable params: 4,007,548\n",
              "Total mult-adds (G): 12.31\n",
              "================================================================================================================================================================\n",
              "Input size (MB): 19.27\n",
              "Forward/backward pass size (MB): 3452.09\n",
              "Params size (MB): 16.05\n",
              "Estimated Total Size (MB): 3487.41\n",
              "================================================================================================================================================================"
            ]
          },
          "metadata": {},
          "execution_count": 10
        }
      ]
    }
  ]
}